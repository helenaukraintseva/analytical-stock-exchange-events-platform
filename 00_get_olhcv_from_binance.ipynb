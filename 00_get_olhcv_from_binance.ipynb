{
 "cells": [
  {
   "cell_type": "code",
   "execution_count": null,
   "id": "811b7d8c-8d6c-4ac2-bb2f-b9bbd44aff57",
   "metadata": {},
   "outputs": [],
   "source": [
    "!pip install ccxt"
   ]
  },
  {
   "cell_type": "code",
   "execution_count": 1,
   "id": "ae84dbca-8930-45e3-bebb-db74a8390b9e",
   "metadata": {},
   "outputs": [],
   "source": [
    "import ccxt\n"
   ]
  },
  {
   "cell_type": "code",
   "execution_count": 3,
   "id": "bbd5013f-75fd-46a4-bc18-90da9efeca82",
   "metadata": {},
   "outputs": [],
   "source": [
    "binance = ccxt.binance()"
   ]
  },
  {
   "cell_type": "code",
   "execution_count": 5,
   "id": "3de5eead-68be-443e-9963-8b4dca1478b9",
   "metadata": {},
   "outputs": [
    {
     "data": {
      "text/plain": [
       "{'symbol': 'BTC/USDT',\n",
       " 'timestamp': 1731840192232,\n",
       " 'datetime': '2024-11-17T10:43:12.232Z',\n",
       " 'high': 91597.66,\n",
       " 'low': 89364.0,\n",
       " 'bid': 91088.41,\n",
       " 'bidVolume': 0.23357,\n",
       " 'ask': 91088.42,\n",
       " 'askVolume': 3.85989,\n",
       " 'vwap': 90643.88615189,\n",
       " 'open': 91535.99,\n",
       " 'close': 91088.41,\n",
       " 'last': 91088.41,\n",
       " 'previousClose': 91536.0,\n",
       " 'change': -447.58,\n",
       " 'percentage': -0.489,\n",
       " 'average': 91312.2,\n",
       " 'baseVolume': 23406.37411,\n",
       " 'quoteVolume': 2121644710.0554078,\n",
       " 'markPrice': None,\n",
       " 'indexPrice': None,\n",
       " 'info': {'symbol': 'BTCUSDT',\n",
       "  'priceChange': '-447.58000000',\n",
       "  'priceChangePercent': '-0.489',\n",
       "  'weightedAvgPrice': '90643.88615189',\n",
       "  'prevClosePrice': '91536.00000000',\n",
       "  'lastPrice': '91088.41000000',\n",
       "  'lastQty': '0.00112000',\n",
       "  'bidPrice': '91088.41000000',\n",
       "  'bidQty': '0.23357000',\n",
       "  'askPrice': '91088.42000000',\n",
       "  'askQty': '3.85989000',\n",
       "  'openPrice': '91535.99000000',\n",
       "  'highPrice': '91597.66000000',\n",
       "  'lowPrice': '89364.00000000',\n",
       "  'volume': '23406.37411000',\n",
       "  'quoteVolume': '2121644710.05540780',\n",
       "  'openTime': '1731753792232',\n",
       "  'closeTime': '1731840192232',\n",
       "  'firstId': '4088878760',\n",
       "  'lastId': '4093513879',\n",
       "  'count': '4635120'}}"
      ]
     },
     "execution_count": 5,
     "metadata": {},
     "output_type": "execute_result"
    }
   ],
   "source": [
    "btc_ticker = binance.fetch_ticker('BTC/USDT')\n",
    "btc_ticker"
   ]
  },
  {
   "cell_type": "code",
   "execution_count": 37,
   "id": "f29e2104-12c0-48be-9357-51a3e51cc955",
   "metadata": {},
   "outputs": [
    {
     "data": {
      "text/plain": [
       "[[1717200000000, 3761.0, 3889.97, 3222.0, 3431.82, 9119116.19614436],\n",
       " [1719792000000, 3431.82, 3563.94, 2801.98, 3231.03, 8802345.07443946],\n",
       " [1722470400000, 3231.04, 3241.24, 2008.4, 2511.76, 11559166.71289216],\n",
       " [1725148800000, 2511.76, 2728.48, 2148.04, 2600.91, 8571940.87709499],\n",
       " [1727740800000, 2600.91, 2770.0, 2307.93, 2515.2, 7951037.83749752],\n",
       " [1730419200000, 2515.2, 3451.81, 2354.58, 3110.25, 8746825.03461357]]"
      ]
     },
     "execution_count": 37,
     "metadata": {},
     "output_type": "execute_result"
    }
   ],
   "source": [
    "btc_usdt_ohlcv = binance.fetch_ohlcv('ETH/USD','1M',limit=10**4)\n",
    "btc_usdt_ohlcv"
   ]
  },
  {
   "cell_type": "code",
   "execution_count": 25,
   "id": "eec20f22-0054-4954-aeb1-bf022b459951",
   "metadata": {},
   "outputs": [
    {
     "data": {
      "text/plain": [
       "88"
      ]
     },
     "execution_count": 25,
     "metadata": {},
     "output_type": "execute_result"
    }
   ],
   "source": []
  },
  {
   "cell_type": "code",
   "execution_count": null,
   "id": "7256d904-f667-48a9-8536-72b6ba6b913e",
   "metadata": {},
   "outputs": [],
   "source": []
  }
 ],
 "metadata": {
  "kernelspec": {
   "display_name": "Python 3 (ipykernel)",
   "language": "python",
   "name": "python3"
  },
  "language_info": {
   "codemirror_mode": {
    "name": "ipython",
    "version": 3
   },
   "file_extension": ".py",
   "mimetype": "text/x-python",
   "name": "python",
   "nbconvert_exporter": "python",
   "pygments_lexer": "ipython3",
   "version": "3.12.4"
  }
 },
 "nbformat": 4,
 "nbformat_minor": 5
}
